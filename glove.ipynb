{
 "cells": [
  {
   "cell_type": "code",
   "execution_count": 2,
   "metadata": {},
   "outputs": [],
   "source": [
    "import numpy as np"
   ]
  },
  {
   "cell_type": "code",
   "execution_count": 3,
   "metadata": {},
   "outputs": [],
   "source": [
    "word_to_vec = dict()\n",
    "\n",
    "with open('glove.6B.50d.txt', 'r', encoding='utf8') as f:\n",
    "    for line in f:\n",
    "        splits = line.split()\n",
    "\n",
    "        word = splits[0]\n",
    "\n",
    "        vec = splits[1:]\n",
    "\n",
    "        word_to_vec[word] = np.array(vec, dtype=np.float)"
   ]
  },
  {
   "cell_type": "code",
   "execution_count": 3,
   "metadata": {},
   "outputs": [],
   "source": [
    "def normalise(vector):\n",
    "    \"\"\"\n",
    "    Function to normalize the word vectors\n",
    "    for the computation of the cosine similarity\n",
    "    \"\"\"\n",
    "    norm = np.linalg.norm(vector)\n",
    "\n",
    "    return vector / norm"
   ]
  },
  {
   "cell_type": "code",
   "execution_count": 4,
   "metadata": {},
   "outputs": [],
   "source": [
    "def get_wordict(word_to_vec):\n",
    "    \n",
    "    id_to_word = dict(enumerate(word_to_vec.keys()))  # from index to word\n",
    "    word_to_id = {a: b for (b, a) in id_to_word.items()}  # from word to index\n",
    "\n",
    "    return id_to_word, word_to_id"
   ]
  },
  {
   "cell_type": "code",
   "execution_count": 5,
   "metadata": {},
   "outputs": [],
   "source": [
    "word_norm = np.array([normalise(k) for k in word_to_vec.values()])\n",
    "id_to_word, word_to_id = get_wordict(word_to_vec)"
   ]
  },
  {
   "cell_type": "code",
   "execution_count": 6,
   "metadata": {},
   "outputs": [],
   "source": [
    "def similarity(word_1, word_2):\n",
    "    \"\"\"\n",
    "    Compute the cosine similatity of two words\n",
    "    Parameters\n",
    "    ----------\n",
    "    word_1 : str\n",
    "    word_2 : str\n",
    "\n",
    "    Returns\n",
    "    -------\n",
    "    Cosine similarity\n",
    "    \"\"\"\n",
    "    cos_ = word_to_vec[word_1] @ word_to_vec[word_2]\n",
    "    return cos_"
   ]
  },
  {
   "cell_type": "code",
   "execution_count": 7,
   "metadata": {},
   "outputs": [],
   "source": [
    "def top_similarity(word, topk=5):\n",
    "    \"\"\"\n",
    "    Return topk similar words\n",
    "    Parameters\n",
    "    \"\"\"\n",
    "    cos_ = word_norm @ word_to_vec[word].T\n",
    "\n",
    "    top_words = np.argsort(cos_)[::-1][:topk]\n",
    "\n",
    "    return [id_to_word[i] for i in top_words]"
   ]
  },
  {
   "cell_type": "code",
   "execution_count": 8,
   "metadata": {},
   "outputs": [],
   "source": [
    "def top_similarity(word, topk=5):\n",
    "    \"\"\"\n",
    "    Return topk similar words\n",
    "    Parameters\n",
    "    \"\"\"\n",
    "    cos_ = word_norm @ word_to_vec[word].T\n",
    "\n",
    "    top_words = np.argsort(cos_)[::-1][:topk]\n",
    "\n",
    "    return [id_to_word[i] for i in top_words]"
   ]
  },
  {
   "cell_type": "code",
   "execution_count": 9,
   "metadata": {},
   "outputs": [],
   "source": [
    "def cos_add(a_, a, b):\n",
    "    \"\"\"\n",
    "    Implementation of the 3CosAdd function\n",
    "    \"\"\"\n",
    "    try:\n",
    "        a_, a, b = a_.lower(), a.lower(), b.lower()\n",
    "\n",
    "        val = word_to_vec[a_] - word_to_vec[a] + word_to_vec[b]\n",
    "\n",
    "        cos_ = word_norm @ val\n",
    "\n",
    "        b_ = np.argmax(cos_)\n",
    "\n",
    "        b_ = id_to_word[b_]\n",
    "\n",
    "    except:  # Handling out of vocabulary words\n",
    "        b_ = '<unknown>'\n",
    "\n",
    "    return b_\n",
    "\n",
    "\n",
    "# Word analogy 3cosMul\n",
    "def cos_mul(a_, a, b):\n",
    "    \"\"\"\n",
    "    Implementation of the 3CosMul function\n",
    "    \"\"\"\n",
    "    try:\n",
    "        a_, a, b = str(a_).lower(), str(a).lower(), str(b).lower()\n",
    "\n",
    "        cos_ = word_norm @ word_to_vec[a_] - word_norm @ word_to_vec[a] + word_norm @ word_to_vec[b]\n",
    "\n",
    "        b_ = np.argmax(cos_)\n",
    "\n",
    "        b_ = id_to_word[b_]\n",
    "\n",
    "    except:  # Handling out of vocabulary words\n",
    "\n",
    "        b_ = '<unknown>'\n",
    "    return b_"
   ]
  },
  {
   "cell_type": "markdown",
   "metadata": {},
   "source": [
    "## Word similarity"
   ]
  },
  {
   "cell_type": "code",
   "execution_count": 10,
   "metadata": {},
   "outputs": [
    {
     "data": {
      "text/plain": [
       "['man', 'woman', 'boy', 'another', 'old']"
      ]
     },
     "execution_count": 10,
     "metadata": {},
     "output_type": "execute_result"
    }
   ],
   "source": [
    "top_similarity('man')"
   ]
  },
  {
   "cell_type": "code",
   "execution_count": 11,
   "metadata": {},
   "outputs": [
    {
     "data": {
      "text/plain": [
       "['banana', 'bananas', 'coconut', 'pineapple', 'mango']"
      ]
     },
     "execution_count": 11,
     "metadata": {},
     "output_type": "execute_result"
    }
   ],
   "source": [
    "top_similarity('banana')"
   ]
  },
  {
   "cell_type": "code",
   "execution_count": 13,
   "metadata": {},
   "outputs": [
    {
     "data": {
      "text/plain": [
       "['plane', 'airplane', 'flight', 'planes', 'crashed']"
      ]
     },
     "execution_count": 13,
     "metadata": {},
     "output_type": "execute_result"
    }
   ],
   "source": [
    "top_similarity('plane')"
   ]
  },
  {
   "cell_type": "markdown",
   "metadata": {},
   "source": [
    "## Word analogy"
   ]
  },
  {
   "cell_type": "code",
   "execution_count": 14,
   "metadata": {},
   "outputs": [
    {
     "name": "stdout",
     "output_type": "stream",
     "text": [
      "king - queen + woman = man\n",
      "france - paris + berlin = germany\n"
     ]
    }
   ],
   "source": [
    "print(f\"king - queen + woman = {cos_add('king', 'queen', 'woman')}\")\n",
    "print(f\"france - paris + berlin = {cos_add('france', 'paris', 'berlin')}\")"
   ]
  }
 ],
 "metadata": {
  "kernelspec": {
   "display_name": "Python 3",
   "language": "python",
   "name": "python3"
  },
  "language_info": {
   "codemirror_mode": {
    "name": "ipython",
    "version": 3
   },
   "file_extension": ".py",
   "mimetype": "text/x-python",
   "name": "python",
   "nbconvert_exporter": "python",
   "pygments_lexer": "ipython3",
   "version": "3.7.6"
  }
 },
 "nbformat": 4,
 "nbformat_minor": 4
}